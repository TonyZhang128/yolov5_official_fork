{
  "cells": [
    {
      "cell_type": "markdown",
      "metadata": {
        "id": "t6MPjfT5NrKQ"
      },
      "source": [
        "<div align=\"center\">\n",
        "\n",
        "  <a href=\"https://ultralytics.com/yolov5\" target=\"_blank\">\n",
        "    <img width=\"1024\", src=\"https://raw.githubusercontent.com/ultralytics/assets/main/yolov5/v70/splash.png\"></a>\n",
        "\n",
        "[中文](https://docs.ultralytics.com/zh/) | [한국어](https://docs.ultralytics.com/ko/) | [日本語](https://docs.ultralytics.com/ja/) | [Русский](https://docs.ultralytics.com/ru/) | [Deutsch](https://docs.ultralytics.com/de/) | [Français](https://docs.ultralytics.com/fr/) | [Español](https://docs.ultralytics.com/es/) | [Português](https://docs.ultralytics.com/pt/) | [العربية](https://docs.ultralytics.com/ar/)\n",
        "\n",
        "  <a href=\"https://bit.ly/yolov5-paperspace-notebook\"><img src=\"https://assets.paperspace.io/img/gradient-badge.svg\" alt=\"Run on Gradient\"></a>\n",
        "  <a href=\"https://colab.research.google.com/github/ultralytics/yolov5/blob/master/tutorial.ipynb\"><img src=\"https://colab.research.google.com/assets/colab-badge.svg\" alt=\"Open In Colab\"></a>\n",
        "  <a href=\"https://www.kaggle.com/models/ultralytics/yolov5\"><img src=\"https://kaggle.com/static/images/open-in-kaggle.svg\" alt=\"Open In Kaggle\"></a>\n",
        "\n",
        "This <a href=\"https://github.com/ultralytics/yolov5\">YOLOv5</a> 🚀 notebook by <a href=\"https://ultralytics.com\">Ultralytics</a> presents simple train, validate and predict examples to help start your AI adventure.<br>We hope that the resources in this notebook will help you get the most out of YOLOv5. Please browse the YOLOv5 <a href=\"https://docs.ultralytics.com/yolov5\">Docs</a> for details, raise an issue on <a href=\"https://github.com/ultralytics/yolov5\">GitHub</a> for support, and join our <a href=\"https://ultralytics.com/discord\">Discord</a> community for questions and discussions!\n",
        "\n",
        "</div>"
      ]
    },
    {
      "cell_type": "markdown",
      "metadata": {
        "id": "7mGmQbAO5pQb"
      },
      "source": [
        "# Setup\n",
        "\n",
        "Clone GitHub [repository](https://github.com/ultralytics/yolov5), install [dependencies](https://github.com/ultralytics/yolov5/blob/master/requirements.txt) and check PyTorch and GPU."
      ]
    },
    {
      "cell_type": "code",
      "execution_count": 1,
      "metadata": {
        "colab": {
          "base_uri": "https://localhost:8080/"
        },
        "id": "wbvMlHd_QwMG",
        "outputId": "e8225db4-e61d-4640-8b1f-8bfce3331cea"
      },
      "outputs": [
        {
          "name": "stderr",
          "output_type": "stream",
          "text": [
            "YOLOv5  997db31 Python-3.12.9 torch-2.5.1 CUDA:0 (NVIDIA GeForce RTX 4070 Laptop GPU, 8188MiB)\n"
          ]
        },
        {
          "name": "stdout",
          "output_type": "stream",
          "text": [
            "Setup complete  (24 CPUs, 15.7 GB RAM, 340.8/752.9 GB disk)\n"
          ]
        }
      ],
      "source": [
        "# !git clone https://github.com/ultralytics/yolov5  # clone\n",
        "# %cd yolov5\n",
        "# %pip install -qr requirements.txt comet_ml  # install\n",
        "\n",
        "import torch\n",
        "import utils\n",
        "display = utils.notebook_init()  # checks"
      ]
    },
    {
      "cell_type": "markdown",
      "metadata": {
        "id": "4JnkELT0cIJg"
      },
      "source": [
        "# 1. Detect\n",
        "\n",
        "`detect.py` runs YOLOv5 inference on a variety of sources, downloading models automatically from the [latest YOLOv5 release](https://github.com/ultralytics/yolov5/releases), and saving results to `runs/detect`. Example inference sources are:\n",
        "\n",
        "```shell\n",
        "python detect.py --source 0  # webcam\n",
        "                          img.jpg  # image\n",
        "                          vid.mp4  # video\n",
        "                          screen  # screenshot\n",
        "                          path/  # directory\n",
        "                         'path/*.jpg'  # glob\n",
        "                         'https://youtu.be/LNwODJXcvt4'  # YouTube\n",
        "                         'rtsp://example.com/media.mp4'  # RTSP, RTMP, HTTP stream\n",
        "```"
      ]
    },
    {
      "cell_type": "code",
      "execution_count": 2,
      "metadata": {
        "colab": {
          "base_uri": "https://localhost:8080/"
        },
        "id": "zR9ZbuQCH7FX",
        "outputId": "284ef04b-1596-412f-88f6-948828dd2b49"
      },
      "outputs": [
        {
          "name": "stderr",
          "output_type": "stream",
          "text": [
            "\u001b[34m\u001b[1mdetect: \u001b[0mweights=['yolov5n.pt'], source=D:\\dataset\\self\\dataset_isd\\train\\image\\2, data=data\\coco128.yaml, imgsz=[640, 640], conf_thres=0.25, iou_thres=0.45, max_det=1000, device=, view_img=False, save_txt=False, save_format=0, save_csv=False, save_conf=False, save_crop=False, nosave=False, classes=None, agnostic_nms=False, augment=False, visualize=False, update=False, project=runs\\detect, name=exp, exist_ok=False, line_thickness=3, hide_labels=False, hide_conf=False, half=False, dnn=False, vid_stride=1\n",
            "YOLOv5  997db31 Python-3.12.9 torch-2.5.1 CUDA:0 (NVIDIA GeForce RTX 4070 Laptop GPU, 8188MiB)\n",
            "\n",
            "Fusing layers... \n",
            "YOLOv5n summary: 213 layers, 1867405 parameters, 0 gradients, 4.5 GFLOPs\n",
            "image 1/44 D:\\dataset\\self\\dataset_isd\\train\\image\\2\\2_2022202060127.jpg: 640x480 (no detections), 20.5ms\n",
            "image 2/44 D:\\dataset\\self\\dataset_isd\\train\\image\\2\\2_2022402060109.jpg: 640x384 1 dog, 1 teddy bear, 23.9ms\n",
            "image 3/44 D:\\dataset\\self\\dataset_isd\\train\\image\\2\\2_2022402060112.jpg: 640x448 1 dog, 19.9ms\n",
            "image 4/44 D:\\dataset\\self\\dataset_isd\\train\\image\\2\\2_2022402060118.jpg: 384x640 1 dog, 18.9ms\n",
            "image 5/44 D:\\dataset\\self\\dataset_isd\\train\\image\\2\\2_2022402060119.jpg: 640x480 (no detections), 4.9ms\n",
            "image 6/44 D:\\dataset\\self\\dataset_isd\\train\\image\\2\\2_2022402060120.jpg: 640x416 (no detections), 27.3ms\n",
            "image 7/44 D:\\dataset\\self\\dataset_isd\\train\\image\\2\\2_2022402060125.jpg: 448x640 (no detections), 24.3ms\n",
            "image 8/44 D:\\dataset\\self\\dataset_isd\\train\\image\\2\\2_2022402060126.jpg: 640x384 3 dogs, 1 cow, 6.7ms\n",
            "image 9/44 D:\\dataset\\self\\dataset_isd\\train\\image\\2\\2_2022402060205.jpg: 448x640 1 dog, 2.5ms\n",
            "image 10/44 D:\\dataset\\self\\dataset_isd\\train\\image\\2\\2_2022402060206.jpg: 480x640 1 dog, 20.4ms\n",
            "image 11/44 D:\\dataset\\self\\dataset_isd\\train\\image\\2\\2_2022402060207.jpg: 448x640 1 dog, 1 bear, 7.9ms\n",
            "image 12/44 D:\\dataset\\self\\dataset_isd\\train\\image\\2\\2_2022402060208.jpg: 480x640 1 dog, 1 bear, 6.0ms\n",
            "image 13/44 D:\\dataset\\self\\dataset_isd\\train\\image\\2\\2_2022402060209.jpg: 608x640 (no detections), 22.6ms\n",
            "image 14/44 D:\\dataset\\self\\dataset_isd\\train\\image\\2\\2_2022402060210.jpg: 448x640 1 dog, 6.0ms\n",
            "image 15/44 D:\\dataset\\self\\dataset_isd\\train\\image\\2\\2_2022402060211.jpg: 640x640 1 dog, 10.4ms\n",
            "image 16/44 D:\\dataset\\self\\dataset_isd\\train\\image\\2\\2_2022402060215.jpg: 640x640 (no detections), 7.0ms\n",
            "image 17/44 D:\\dataset\\self\\dataset_isd\\train\\image\\2\\2_2022402060216 .jpg: 640x480 1 teddy bear, 10.4ms\n",
            "image 18/44 D:\\dataset\\self\\dataset_isd\\train\\image\\2\\2_2022402060219.jpg: 480x640 1 dog, 1.3ms\n",
            "image 19/44 D:\\dataset\\self\\dataset_isd\\train\\image\\2\\2_2022402060222.jpg: 640x640 (no detections), 0.0ms\n",
            "image 20/44 D:\\dataset\\self\\dataset_isd\\train\\image\\2\\2_2022402060224.jpg: 448x640 1 dog, 0.0ms\n",
            "image 21/44 D:\\dataset\\self\\dataset_isd\\train\\image\\2\\2_2022402060225.jpg: 640x640 1 bear, 4.8ms\n",
            "image 22/44 D:\\dataset\\self\\dataset_isd\\train\\image\\2\\2_2022402060302.jpg: 640x320 1 person, 1 dog, 1 teddy bear, 20.7ms\n",
            "image 23/44 D:\\dataset\\self\\dataset_isd\\train\\image\\2\\2_2022402060304.jpg: 480x640 1 dog, 5.1ms\n",
            "image 24/44 D:\\dataset\\self\\dataset_isd\\train\\image\\2\\2_2022402060307.jpg: 640x480 1 dog, 2.6ms\n",
            "image 25/44 D:\\dataset\\self\\dataset_isd\\train\\image\\2\\2_2022402060309.jpg: 640x480 1 dog, 5.7ms\n",
            "image 26/44 D:\\dataset\\self\\dataset_isd\\train\\image\\2\\2_2022402060310.jpg: 448x640 1 dog, 7.3ms\n",
            "image 27/44 D:\\dataset\\self\\dataset_isd\\train\\image\\2\\2_2022402060312.jpg: 640x480 1 bear, 0.0ms\n",
            "image 28/44 D:\\dataset\\self\\dataset_isd\\train\\image\\2\\2_2022402060313.jpg: 480x640 1 dog, 1 frisbee, 1.5ms\n",
            "image 29/44 D:\\dataset\\self\\dataset_isd\\train\\image\\2\\2_2022402060314.jpg: 640x480 1 dog, 2.0ms\n",
            "image 30/44 D:\\dataset\\self\\dataset_isd\\train\\image\\2\\2_2022402060315.jpg: 640x480 1 dog, 3.9ms\n",
            "image 31/44 D:\\dataset\\self\\dataset_isd\\train\\image\\2\\2_2022402060316.jpg: 448x640 1 dog, 4.1ms\n",
            "image 32/44 D:\\dataset\\self\\dataset_isd\\train\\image\\2\\2_2022402060318.jpg: 640x640 1 dog, 0.0ms\n",
            "image 33/44 D:\\dataset\\self\\dataset_isd\\train\\image\\2\\2_2022402060319.jpg: 448x640 (no detections), 0.0ms\n",
            "image 34/44 D:\\dataset\\self\\dataset_isd\\train\\image\\2\\2_2022402060320.jpg: 608x640 (no detections), 0.5ms\n",
            "image 35/44 D:\\dataset\\self\\dataset_isd\\train\\image\\2\\2_2022402060321.jpg: 640x544 (no detections), 24.6ms\n",
            "image 36/44 D:\\dataset\\self\\dataset_isd\\train\\image\\2\\2_2022402060323.jpg: 480x640 1 dog, 3.8ms\n",
            "image 37/44 D:\\dataset\\self\\dataset_isd\\train\\image\\2\\2_2022402060324.jpg: 640x480 1 dog, 9.6ms\n",
            "image 38/44 D:\\dataset\\self\\dataset_isd\\train\\image\\2\\2_2022402060404.jpg: 448x640 1 dog, 0.0ms\n",
            "image 39/44 D:\\dataset\\self\\dataset_isd\\train\\image\\2\\2_2022402060411.jpg: 448x640 1 dog, 1 frisbee, 10.4ms\n",
            "image 40/44 D:\\dataset\\self\\dataset_isd\\train\\image\\2\\2_2022402060412.jpg: 512x640 1 dog, 27.1ms\n",
            "image 41/44 D:\\dataset\\self\\dataset_isd\\train\\image\\2\\2_2022402060414.jpg: 448x640 1 dog, 0.0ms\n",
            "image 42/44 D:\\dataset\\self\\dataset_isd\\train\\image\\2\\2_2022402060415.jpg: 640x448 (no detections), 10.3ms\n",
            "image 43/44 D:\\dataset\\self\\dataset_isd\\train\\image\\2\\2_2022402060423.jpg: 448x640 1 dog, 3.0ms\n",
            "image 44/44 D:\\dataset\\self\\dataset_isd\\train\\image\\2\\2_2022402060424.jpg: 640x480 (no detections), 7.9ms\n",
            "Speed: 0.6ms pre-process, 9.0ms inference, 2.5ms NMS per image at shape (1, 3, 640, 640)\n",
            "Results saved to \u001b[1mruns\\detect\\exp17\u001b[0m\n"
          ]
        }
      ],
      "source": [
        "!python detect.py --weights yolov5n.pt --img 640 --conf 0.25 --source \"D:\\dataset\\self\\dataset_isd\\train\\image\\2\"\n",
        "# 训练后的检测结果保存在 ./runs/detect/ 下\n",
        "# display.Image(filename='runs/detect/exp10/bus.jpg', width=600)"
      ]
    },
    {
      "cell_type": "markdown",
      "metadata": {
        "id": "hkAzDWJ7cWTr"
      },
      "source": [
        "<!-- &nbsp;&nbsp;&nbsp;&nbsp;&nbsp;&nbsp;&nbsp;&nbsp;\n",
        "<img align=\"left\" src=\"https://user-images.githubusercontent.com/26833433/127574988-6a558aa1-d268-44b9-bf6b-62d4c605cc72.jpg\" width=\"600\"> -->"
      ]
    },
    {
      "cell_type": "markdown",
      "metadata": {},
      "source": [
        "Yolov5预训练参数权重文件\n",
        "\n",
        "![Yolov5权重参数文件](https://s2.loli.net/2025/04/16/tQWwDecrLRblXIG.png)"
      ]
    },
    {
      "cell_type": "markdown",
      "metadata": {
        "id": "0eq1SMWl6Sfn"
      },
      "source": [
        "# 2. Validate\n",
        "Validate a model's accuracy on the [COCO](https://cocodataset.org/#home) dataset's `val` or `test` splits. Models are downloaded automatically from the [latest YOLOv5 release](https://github.com/ultralytics/yolov5/releases). To show results by class use the `--verbose` flag."
      ]
    },
    {
      "cell_type": "code",
      "execution_count": null,
      "metadata": {
        "colab": {
          "base_uri": "https://localhost:8080/"
        },
        "id": "WQPtK1QYVaD_",
        "outputId": "cf7d52f0-281c-4c96-a488-79f5908f8426"
      },
      "outputs": [],
      "source": [
        "# Download COCO val\n",
        "# torch.hub.download_url_to_file('https://github.com/ultralytics/assets/releases/download/v0.0.0/coco2017val.zip', 'tmp.zip')  # download (780M - 5000 images)\n",
        "# unzip -q tmp.zip -d ../datasets && rm tmp.zip  # unzip"
      ]
    },
    {
      "cell_type": "code",
      "execution_count": 4,
      "metadata": {
        "colab": {
          "base_uri": "https://localhost:8080/"
        },
        "id": "X58w8JLpMnjH",
        "outputId": "3e234e05-ee8b-4ad1-b1a4-f6a55d5e4f3d"
      },
      "outputs": [
        {
          "name": "stdout",
          "output_type": "stream",
          "text": [
            "loading annotations into memory...\n",
            "Done (t=0.36s)\n",
            "creating index...\n",
            "index created!\n",
            "Loading and preparing results...\n",
            "DONE (t=3.16s)\n",
            "creating index...\n",
            "index created!\n",
            "Running per image evaluation...\n",
            "Evaluate annotation type *bbox*\n",
            "DONE (t=34.90s).\n",
            "Accumulating evaluation results...\n",
            "DONE (t=8.33s).\n",
            " Average Precision  (AP) @[ IoU=0.50:0.95 | area=   all | maxDets=100 ] = 0.374\n",
            " Average Precision  (AP) @[ IoU=0.50      | area=   all | maxDets=100 ] = 0.572\n",
            " Average Precision  (AP) @[ IoU=0.75      | area=   all | maxDets=100 ] = 0.402\n",
            " Average Precision  (AP) @[ IoU=0.50:0.95 | area= small | maxDets=100 ] = 0.211\n",
            " Average Precision  (AP) @[ IoU=0.50:0.95 | area=medium | maxDets=100 ] = 0.423\n",
            " Average Precision  (AP) @[ IoU=0.50:0.95 | area= large | maxDets=100 ] = 0.491\n",
            " Average Recall     (AR) @[ IoU=0.50:0.95 | area=   all | maxDets=  1 ] = 0.311\n",
            " Average Recall     (AR) @[ IoU=0.50:0.95 | area=   all | maxDets= 10 ] = 0.516\n",
            " Average Recall     (AR) @[ IoU=0.50:0.95 | area=   all | maxDets=100 ] = 0.566\n",
            " Average Recall     (AR) @[ IoU=0.50:0.95 | area= small | maxDets=100 ] = 0.378\n",
            " Average Recall     (AR) @[ IoU=0.50:0.95 | area=medium | maxDets=100 ] = 0.625\n",
            " Average Recall     (AR) @[ IoU=0.50:0.95 | area= large | maxDets=100 ] = 0.722\n"
          ]
        },
        {
          "name": "stderr",
          "output_type": "stream",
          "text": [
            "\u001b[34m\u001b[1mval: \u001b[0mdata=D:\\workspace\\codes\\yolov5_official_fork\\data\\coco.yaml, weights=['yolov5s.pt'], batch_size=32, imgsz=640, conf_thres=0.001, iou_thres=0.6, max_det=300, task=val, device=, workers=8, single_cls=False, augment=False, verbose=False, save_txt=False, save_hybrid=False, save_conf=False, save_json=True, project=runs\\val, name=exp, exist_ok=False, half=True, dnn=False\n",
            "YOLOv5  997db31 Python-3.12.9 torch-2.5.1 CUDA:0 (NVIDIA GeForce RTX 4070 Laptop GPU, 8188MiB)\n",
            "\n",
            "Fusing layers... \n",
            "YOLOv5s summary: 213 layers, 7225885 parameters, 0 gradients, 16.4 GFLOPs\n",
            "\n",
            "\u001b[34m\u001b[1mval: \u001b[0mScanning D:\\workspace\\codes\\datasets\\coco\\val2017.cache... 4952 images, 48 backgrounds, 0 corrupt: 100%|██████████| 5000/5000 [00:00<?, ?it/s]\n",
            "\u001b[34m\u001b[1mval: \u001b[0mScanning D:\\workspace\\codes\\datasets\\coco\\val2017.cache... 4952 images, 48 backgrounds, 0 corrupt: 100%|██████████| 5000/5000 [00:00<?, ?it/s]\n",
            "\n",
            "                 Class     Images  Instances          P          R      mAP50   mAP50-95:   0%|          | 0/157 [00:00<?, ?it/s]\n",
            "                 Class     Images  Instances          P          R      mAP50   mAP50-95:   1%|          | 1/157 [00:01<03:49,  1.47s/it]\n",
            "                 Class     Images  Instances          P          R      mAP50   mAP50-95:   1%|▏         | 2/157 [00:01<02:08,  1.20it/s]\n",
            "                 Class     Images  Instances          P          R      mAP50   mAP50-95:   2%|▏         | 3/157 [00:02<01:34,  1.62it/s]\n",
            "                 Class     Images  Instances          P          R      mAP50   mAP50-95:   3%|▎         | 4/157 [00:02<01:17,  1.98it/s]\n",
            "                 Class     Images  Instances          P          R      mAP50   mAP50-95:   3%|▎         | 5/157 [00:02<01:03,  2.41it/s]\n",
            "                 Class     Images  Instances          P          R      mAP50   mAP50-95:   4%|▍         | 6/157 [00:03<01:01,  2.47it/s]\n",
            "                 Class     Images  Instances          P          R      mAP50   mAP50-95:   4%|▍         | 7/157 [00:03<00:53,  2.79it/s]\n",
            "                 Class     Images  Instances          P          R      mAP50   mAP50-95:   5%|▌         | 8/157 [00:03<00:48,  3.08it/s]\n",
            "                 Class     Images  Instances          P          R      mAP50   mAP50-95:   6%|▌         | 9/157 [00:03<00:45,  3.24it/s]\n",
            "                 Class     Images  Instances          P          R      mAP50   mAP50-95:   6%|▋         | 10/157 [00:04<00:42,  3.50it/s]\n",
            "                 Class     Images  Instances          P          R      mAP50   mAP50-95:   7%|▋         | 11/157 [00:04<00:40,  3.64it/s]\n",
            "                 Class     Images  Instances          P          R      mAP50   mAP50-95:   8%|▊         | 12/157 [00:04<00:37,  3.85it/s]\n",
            "                 Class     Images  Instances          P          R      mAP50   mAP50-95:   8%|▊         | 13/157 [00:04<00:36,  3.89it/s]\n",
            "                 Class     Images  Instances          P          R      mAP50   mAP50-95:   9%|▉         | 14/157 [00:05<00:35,  3.98it/s]\n",
            "                 Class     Images  Instances          P          R      mAP50   mAP50-95:  10%|▉         | 15/157 [00:05<00:35,  4.01it/s]\n",
            "                 Class     Images  Instances          P          R      mAP50   mAP50-95:  10%|█         | 16/157 [00:05<00:38,  3.66it/s]\n",
            "                 Class     Images  Instances          P          R      mAP50   mAP50-95:  11%|█         | 17/157 [00:05<00:36,  3.81it/s]\n",
            "                 Class     Images  Instances          P          R      mAP50   mAP50-95:  11%|█▏        | 18/157 [00:06<00:35,  3.95it/s]\n",
            "                 Class     Images  Instances          P          R      mAP50   mAP50-95:  12%|█▏        | 19/157 [00:06<00:34,  4.01it/s]\n",
            "                 Class     Images  Instances          P          R      mAP50   mAP50-95:  13%|█▎        | 20/157 [00:06<00:33,  4.08it/s]\n",
            "                 Class     Images  Instances          P          R      mAP50   mAP50-95:  13%|█▎        | 21/157 [00:06<00:33,  4.10it/s]\n",
            "                 Class     Images  Instances          P          R      mAP50   mAP50-95:  14%|█▍        | 22/157 [00:07<00:32,  4.12it/s]\n",
            "                 Class     Images  Instances          P          R      mAP50   mAP50-95:  15%|█▍        | 23/157 [00:07<00:32,  4.09it/s]\n",
            "                 Class     Images  Instances          P          R      mAP50   mAP50-95:  15%|█▌        | 24/157 [00:07<00:31,  4.17it/s]\n",
            "                 Class     Images  Instances          P          R      mAP50   mAP50-95:  16%|█▌        | 25/157 [00:07<00:32,  4.11it/s]\n",
            "                 Class     Images  Instances          P          R      mAP50   mAP50-95:  17%|█▋        | 26/157 [00:08<00:30,  4.25it/s]\n",
            "                 Class     Images  Instances          P          R      mAP50   mAP50-95:  17%|█▋        | 27/157 [00:08<00:34,  3.78it/s]\n",
            "                 Class     Images  Instances          P          R      mAP50   mAP50-95:  18%|█▊        | 28/157 [00:08<00:32,  3.95it/s]\n",
            "                 Class     Images  Instances          P          R      mAP50   mAP50-95:  18%|█▊        | 29/157 [00:08<00:31,  4.05it/s]\n",
            "                 Class     Images  Instances          P          R      mAP50   mAP50-95:  19%|█▉        | 30/157 [00:09<00:29,  4.25it/s]\n",
            "                 Class     Images  Instances          P          R      mAP50   mAP50-95:  20%|█▉        | 31/157 [00:09<00:29,  4.25it/s]\n",
            "                 Class     Images  Instances          P          R      mAP50   mAP50-95:  20%|██        | 32/157 [00:09<00:29,  4.24it/s]\n",
            "                 Class     Images  Instances          P          R      mAP50   mAP50-95:  21%|██        | 33/157 [00:09<00:29,  4.21it/s]\n",
            "                 Class     Images  Instances          P          R      mAP50   mAP50-95:  22%|██▏       | 34/157 [00:10<00:29,  4.20it/s]\n",
            "                 Class     Images  Instances          P          R      mAP50   mAP50-95:  22%|██▏       | 35/157 [00:10<00:28,  4.23it/s]\n",
            "                 Class     Images  Instances          P          R      mAP50   mAP50-95:  23%|██▎       | 36/157 [00:10<00:28,  4.26it/s]\n",
            "                 Class     Images  Instances          P          R      mAP50   mAP50-95:  24%|██▎       | 37/157 [00:10<00:28,  4.28it/s]\n",
            "                 Class     Images  Instances          P          R      mAP50   mAP50-95:  24%|██▍       | 38/157 [00:10<00:27,  4.33it/s]\n",
            "                 Class     Images  Instances          P          R      mAP50   mAP50-95:  25%|██▍       | 39/157 [00:11<00:27,  4.29it/s]\n",
            "                 Class     Images  Instances          P          R      mAP50   mAP50-95:  25%|██▌       | 40/157 [00:11<00:27,  4.30it/s]\n",
            "                 Class     Images  Instances          P          R      mAP50   mAP50-95:  26%|██▌       | 41/157 [00:11<00:31,  3.73it/s]\n",
            "                 Class     Images  Instances          P          R      mAP50   mAP50-95:  27%|██▋       | 42/157 [00:12<00:29,  3.91it/s]\n",
            "                 Class     Images  Instances          P          R      mAP50   mAP50-95:  27%|██▋       | 43/157 [00:12<00:28,  4.02it/s]\n",
            "                 Class     Images  Instances          P          R      mAP50   mAP50-95:  28%|██▊       | 44/157 [00:12<00:27,  4.06it/s]\n",
            "                 Class     Images  Instances          P          R      mAP50   mAP50-95:  29%|██▊       | 45/157 [00:12<00:26,  4.19it/s]\n",
            "                 Class     Images  Instances          P          R      mAP50   mAP50-95:  29%|██▉       | 46/157 [00:12<00:26,  4.23it/s]\n",
            "                 Class     Images  Instances          P          R      mAP50   mAP50-95:  30%|██▉       | 47/157 [00:13<00:26,  4.22it/s]\n",
            "                 Class     Images  Instances          P          R      mAP50   mAP50-95:  31%|███       | 48/157 [00:13<00:25,  4.22it/s]\n",
            "                 Class     Images  Instances          P          R      mAP50   mAP50-95:  31%|███       | 49/157 [00:13<00:25,  4.30it/s]\n",
            "                 Class     Images  Instances          P          R      mAP50   mAP50-95:  32%|███▏      | 50/157 [00:13<00:25,  4.28it/s]\n",
            "                 Class     Images  Instances          P          R      mAP50   mAP50-95:  32%|███▏      | 51/157 [00:14<00:24,  4.33it/s]\n",
            "                 Class     Images  Instances          P          R      mAP50   mAP50-95:  33%|███▎      | 52/157 [00:14<00:25,  4.16it/s]\n",
            "                 Class     Images  Instances          P          R      mAP50   mAP50-95:  34%|███▍      | 53/157 [00:14<00:24,  4.20it/s]\n",
            "                 Class     Images  Instances          P          R      mAP50   mAP50-95:  34%|███▍      | 54/157 [00:14<00:24,  4.18it/s]\n",
            "                 Class     Images  Instances          P          R      mAP50   mAP50-95:  35%|███▌      | 55/157 [00:15<00:24,  4.20it/s]\n",
            "                 Class     Images  Instances          P          R      mAP50   mAP50-95:  36%|███▌      | 56/157 [00:15<00:24,  4.17it/s]\n",
            "                 Class     Images  Instances          P          R      mAP50   mAP50-95:  36%|███▋      | 57/157 [00:15<00:23,  4.18it/s]\n",
            "                 Class     Images  Instances          P          R      mAP50   mAP50-95:  37%|███▋      | 58/157 [00:15<00:28,  3.52it/s]\n",
            "                 Class     Images  Instances          P          R      mAP50   mAP50-95:  38%|███▊      | 59/157 [00:16<00:26,  3.76it/s]\n",
            "                 Class     Images  Instances          P          R      mAP50   mAP50-95:  38%|███▊      | 60/157 [00:16<00:24,  3.90it/s]\n",
            "                 Class     Images  Instances          P          R      mAP50   mAP50-95:  39%|███▉      | 61/157 [00:16<00:24,  3.99it/s]\n",
            "                 Class     Images  Instances          P          R      mAP50   mAP50-95:  39%|███▉      | 62/157 [00:16<00:23,  4.06it/s]\n",
            "                 Class     Images  Instances          P          R      mAP50   mAP50-95:  40%|████      | 63/157 [00:17<00:22,  4.09it/s]\n",
            "                 Class     Images  Instances          P          R      mAP50   mAP50-95:  41%|████      | 64/157 [00:17<00:22,  4.11it/s]\n",
            "                 Class     Images  Instances          P          R      mAP50   mAP50-95:  41%|████▏     | 65/157 [00:17<00:22,  4.08it/s]\n",
            "                 Class     Images  Instances          P          R      mAP50   mAP50-95:  42%|████▏     | 66/157 [00:17<00:22,  4.06it/s]\n",
            "                 Class     Images  Instances          P          R      mAP50   mAP50-95:  43%|████▎     | 67/157 [00:18<00:22,  4.04it/s]\n",
            "                 Class     Images  Instances          P          R      mAP50   mAP50-95:  43%|████▎     | 68/157 [00:18<00:21,  4.14it/s]\n",
            "                 Class     Images  Instances          P          R      mAP50   mAP50-95:  44%|████▍     | 69/157 [00:18<00:21,  4.18it/s]\n",
            "                 Class     Images  Instances          P          R      mAP50   mAP50-95:  45%|████▍     | 70/157 [00:18<00:21,  4.12it/s]\n",
            "                 Class     Images  Instances          P          R      mAP50   mAP50-95:  45%|████▌     | 71/157 [00:19<00:20,  4.18it/s]\n",
            "                 Class     Images  Instances          P          R      mAP50   mAP50-95:  46%|████▌     | 72/157 [00:19<00:20,  4.17it/s]\n",
            "                 Class     Images  Instances          P          R      mAP50   mAP50-95:  46%|████▋     | 73/157 [00:19<00:20,  4.03it/s]\n",
            "                 Class     Images  Instances          P          R      mAP50   mAP50-95:  47%|████▋     | 74/157 [00:19<00:21,  3.86it/s]\n",
            "                 Class     Images  Instances          P          R      mAP50   mAP50-95:  48%|████▊     | 75/157 [00:20<00:20,  3.94it/s]\n",
            "                 Class     Images  Instances          P          R      mAP50   mAP50-95:  48%|████▊     | 76/157 [00:20<00:20,  3.94it/s]\n",
            "                 Class     Images  Instances          P          R      mAP50   mAP50-95:  49%|████▉     | 77/157 [00:20<00:19,  4.09it/s]\n",
            "                 Class     Images  Instances          P          R      mAP50   mAP50-95:  50%|████▉     | 78/157 [00:20<00:22,  3.46it/s]\n",
            "                 Class     Images  Instances          P          R      mAP50   mAP50-95:  50%|█████     | 79/157 [00:21<00:21,  3.62it/s]\n",
            "                 Class     Images  Instances          P          R      mAP50   mAP50-95:  51%|█████     | 80/157 [00:21<00:20,  3.75it/s]\n",
            "                 Class     Images  Instances          P          R      mAP50   mAP50-95:  52%|█████▏    | 81/157 [00:21<00:19,  3.84it/s]\n",
            "                 Class     Images  Instances          P          R      mAP50   mAP50-95:  52%|█████▏    | 82/157 [00:21<00:19,  3.90it/s]\n",
            "                 Class     Images  Instances          P          R      mAP50   mAP50-95:  53%|█████▎    | 83/157 [00:22<00:18,  4.05it/s]\n",
            "                 Class     Images  Instances          P          R      mAP50   mAP50-95:  54%|█████▎    | 84/157 [00:22<00:18,  4.04it/s]\n",
            "                 Class     Images  Instances          P          R      mAP50   mAP50-95:  54%|█████▍    | 85/157 [00:22<00:17,  4.07it/s]\n",
            "                 Class     Images  Instances          P          R      mAP50   mAP50-95:  55%|█████▍    | 86/157 [00:22<00:17,  4.05it/s]\n",
            "                 Class     Images  Instances          P          R      mAP50   mAP50-95:  55%|█████▌    | 87/157 [00:23<00:17,  4.03it/s]\n",
            "                 Class     Images  Instances          P          R      mAP50   mAP50-95:  56%|█████▌    | 88/157 [00:23<00:17,  4.05it/s]\n",
            "                 Class     Images  Instances          P          R      mAP50   mAP50-95:  57%|█████▋    | 89/157 [00:23<00:16,  4.09it/s]\n",
            "                 Class     Images  Instances          P          R      mAP50   mAP50-95:  57%|█████▋    | 90/157 [00:23<00:16,  4.14it/s]\n",
            "                 Class     Images  Instances          P          R      mAP50   mAP50-95:  58%|█████▊    | 91/157 [00:24<00:16,  4.09it/s]\n",
            "                 Class     Images  Instances          P          R      mAP50   mAP50-95:  59%|█████▊    | 92/157 [00:24<00:15,  4.09it/s]\n",
            "                 Class     Images  Instances          P          R      mAP50   mAP50-95:  59%|█████▉    | 93/157 [00:24<00:15,  4.07it/s]\n",
            "                 Class     Images  Instances          P          R      mAP50   mAP50-95:  60%|█████▉    | 94/157 [00:24<00:15,  4.03it/s]\n",
            "                 Class     Images  Instances          P          R      mAP50   mAP50-95:  61%|██████    | 95/157 [00:25<00:15,  3.99it/s]\n",
            "                 Class     Images  Instances          P          R      mAP50   mAP50-95:  61%|██████    | 96/157 [00:25<00:14,  4.10it/s]\n",
            "                 Class     Images  Instances          P          R      mAP50   mAP50-95:  62%|██████▏   | 97/157 [00:25<00:14,  4.02it/s]\n",
            "                 Class     Images  Instances          P          R      mAP50   mAP50-95:  62%|██████▏   | 98/157 [00:25<00:14,  3.98it/s]\n",
            "                 Class     Images  Instances          P          R      mAP50   mAP50-95:  63%|██████▎   | 99/157 [00:26<00:14,  4.01it/s]\n",
            "                 Class     Images  Instances          P          R      mAP50   mAP50-95:  64%|██████▎   | 100/157 [00:26<00:14,  3.93it/s]\n",
            "                 Class     Images  Instances          P          R      mAP50   mAP50-95:  64%|██████▍   | 101/157 [00:26<00:14,  3.95it/s]\n",
            "                 Class     Images  Instances          P          R      mAP50   mAP50-95:  65%|██████▍   | 102/157 [00:26<00:14,  3.81it/s]\n",
            "                 Class     Images  Instances          P          R      mAP50   mAP50-95:  66%|██████▌   | 103/157 [00:27<00:17,  3.13it/s]\n",
            "                 Class     Images  Instances          P          R      mAP50   mAP50-95:  66%|██████▌   | 104/157 [00:27<00:16,  3.31it/s]\n",
            "                 Class     Images  Instances          P          R      mAP50   mAP50-95:  67%|██████▋   | 105/157 [00:27<00:14,  3.49it/s]\n",
            "                 Class     Images  Instances          P          R      mAP50   mAP50-95:  68%|██████▊   | 106/157 [00:28<00:14,  3.45it/s]\n",
            "                 Class     Images  Instances          P          R      mAP50   mAP50-95:  68%|██████▊   | 107/157 [00:28<00:14,  3.57it/s]\n",
            "                 Class     Images  Instances          P          R      mAP50   mAP50-95:  69%|██████▉   | 108/157 [00:28<00:13,  3.71it/s]\n",
            "                 Class     Images  Instances          P          R      mAP50   mAP50-95:  69%|██████▉   | 109/157 [00:29<00:14,  3.31it/s]\n",
            "                 Class     Images  Instances          P          R      mAP50   mAP50-95:  70%|███████   | 110/157 [00:29<00:14,  3.16it/s]\n",
            "                 Class     Images  Instances          P          R      mAP50   mAP50-95:  71%|███████   | 111/157 [00:29<00:13,  3.31it/s]\n",
            "                 Class     Images  Instances          P          R      mAP50   mAP50-95:  71%|███████▏  | 112/157 [00:29<00:13,  3.38it/s]\n",
            "                 Class     Images  Instances          P          R      mAP50   mAP50-95:  72%|███████▏  | 113/157 [00:30<00:12,  3.48it/s]\n",
            "                 Class     Images  Instances          P          R      mAP50   mAP50-95:  73%|███████▎  | 114/157 [00:30<00:12,  3.35it/s]\n",
            "                 Class     Images  Instances          P          R      mAP50   mAP50-95:  73%|███████▎  | 115/157 [00:30<00:12,  3.43it/s]\n",
            "                 Class     Images  Instances          P          R      mAP50   mAP50-95:  74%|███████▍  | 116/157 [00:31<00:11,  3.55it/s]\n",
            "                 Class     Images  Instances          P          R      mAP50   mAP50-95:  75%|███████▍  | 117/157 [00:31<00:11,  3.41it/s]\n",
            "                 Class     Images  Instances          P          R      mAP50   mAP50-95:  75%|███████▌  | 118/157 [00:31<00:11,  3.41it/s]\n",
            "                 Class     Images  Instances          P          R      mAP50   mAP50-95:  76%|███████▌  | 119/157 [00:32<00:11,  3.44it/s]\n",
            "                 Class     Images  Instances          P          R      mAP50   mAP50-95:  76%|███████▋  | 120/157 [00:32<00:10,  3.48it/s]\n",
            "                 Class     Images  Instances          P          R      mAP50   mAP50-95:  77%|███████▋  | 121/157 [00:32<00:09,  3.67it/s]\n",
            "                 Class     Images  Instances          P          R      mAP50   mAP50-95:  78%|███████▊  | 122/157 [00:32<00:09,  3.83it/s]\n",
            "                 Class     Images  Instances          P          R      mAP50   mAP50-95:  78%|███████▊  | 123/157 [00:32<00:08,  3.95it/s]\n",
            "                 Class     Images  Instances          P          R      mAP50   mAP50-95:  79%|███████▉  | 124/157 [00:33<00:08,  4.02it/s]\n",
            "                 Class     Images  Instances          P          R      mAP50   mAP50-95:  80%|███████▉  | 125/157 [00:33<00:07,  4.06it/s]\n",
            "                 Class     Images  Instances          P          R      mAP50   mAP50-95:  80%|████████  | 126/157 [00:33<00:07,  4.20it/s]\n",
            "                 Class     Images  Instances          P          R      mAP50   mAP50-95:  81%|████████  | 127/157 [00:33<00:07,  4.20it/s]\n",
            "                 Class     Images  Instances          P          R      mAP50   mAP50-95:  82%|████████▏ | 128/157 [00:34<00:06,  4.29it/s]\n",
            "                 Class     Images  Instances          P          R      mAP50   mAP50-95:  82%|████████▏ | 129/157 [00:34<00:06,  4.24it/s]\n",
            "                 Class     Images  Instances          P          R      mAP50   mAP50-95:  83%|████████▎ | 130/157 [00:34<00:06,  4.18it/s]\n",
            "                 Class     Images  Instances          P          R      mAP50   mAP50-95:  83%|████████▎ | 131/157 [00:34<00:06,  4.14it/s]\n",
            "                 Class     Images  Instances          P          R      mAP50   mAP50-95:  84%|████████▍ | 132/157 [00:35<00:06,  3.93it/s]\n",
            "                 Class     Images  Instances          P          R      mAP50   mAP50-95:  85%|████████▍ | 133/157 [00:35<00:06,  3.73it/s]\n",
            "                 Class     Images  Instances          P          R      mAP50   mAP50-95:  85%|████████▌ | 134/157 [00:35<00:06,  3.63it/s]\n",
            "                 Class     Images  Instances          P          R      mAP50   mAP50-95:  86%|████████▌ | 135/157 [00:36<00:06,  3.59it/s]\n",
            "                 Class     Images  Instances          P          R      mAP50   mAP50-95:  87%|████████▋ | 136/157 [00:36<00:05,  3.75it/s]\n",
            "                 Class     Images  Instances          P          R      mAP50   mAP50-95:  87%|████████▋ | 137/157 [00:36<00:06,  2.98it/s]\n",
            "                 Class     Images  Instances          P          R      mAP50   mAP50-95:  88%|████████▊ | 138/157 [00:37<00:06,  3.10it/s]\n",
            "                 Class     Images  Instances          P          R      mAP50   mAP50-95:  89%|████████▊ | 139/157 [00:37<00:05,  3.38it/s]\n",
            "                 Class     Images  Instances          P          R      mAP50   mAP50-95:  89%|████████▉ | 140/157 [00:37<00:04,  3.47it/s]\n",
            "                 Class     Images  Instances          P          R      mAP50   mAP50-95:  90%|████████▉ | 141/157 [00:37<00:04,  3.60it/s]\n",
            "                 Class     Images  Instances          P          R      mAP50   mAP50-95:  90%|█████████ | 142/157 [00:38<00:04,  3.47it/s]\n",
            "                 Class     Images  Instances          P          R      mAP50   mAP50-95:  91%|█████████ | 143/157 [00:38<00:03,  3.70it/s]\n",
            "                 Class     Images  Instances          P          R      mAP50   mAP50-95:  92%|█████████▏| 144/157 [00:38<00:03,  3.54it/s]\n",
            "                 Class     Images  Instances          P          R      mAP50   mAP50-95:  92%|█████████▏| 145/157 [00:38<00:03,  3.72it/s]\n",
            "                 Class     Images  Instances          P          R      mAP50   mAP50-95:  93%|█████████▎| 146/157 [00:39<00:02,  3.90it/s]\n",
            "                 Class     Images  Instances          P          R      mAP50   mAP50-95:  94%|█████████▎| 147/157 [00:39<00:02,  3.79it/s]\n",
            "                 Class     Images  Instances          P          R      mAP50   mAP50-95:  94%|█████████▍| 148/157 [00:39<00:02,  3.76it/s]\n",
            "                 Class     Images  Instances          P          R      mAP50   mAP50-95:  95%|█████████▍| 149/157 [00:39<00:02,  3.93it/s]\n",
            "                 Class     Images  Instances          P          R      mAP50   mAP50-95:  96%|█████████▌| 150/157 [00:40<00:01,  3.67it/s]\n",
            "                 Class     Images  Instances          P          R      mAP50   mAP50-95:  96%|█████████▌| 151/157 [00:40<00:01,  3.65it/s]\n",
            "                 Class     Images  Instances          P          R      mAP50   mAP50-95:  97%|█████████▋| 152/157 [00:40<00:01,  3.56it/s]\n",
            "                 Class     Images  Instances          P          R      mAP50   mAP50-95:  97%|█████████▋| 153/157 [00:41<00:01,  3.82it/s]\n",
            "                 Class     Images  Instances          P          R      mAP50   mAP50-95:  98%|█████████▊| 154/157 [00:41<00:00,  4.00it/s]\n",
            "                 Class     Images  Instances          P          R      mAP50   mAP50-95:  99%|█████████▊| 155/157 [00:41<00:00,  4.12it/s]\n",
            "                 Class     Images  Instances          P          R      mAP50   mAP50-95:  99%|█████████▉| 156/157 [00:41<00:00,  4.06it/s]\n",
            "                 Class     Images  Instances          P          R      mAP50   mAP50-95: 100%|██████████| 157/157 [00:41<00:00,  4.70it/s]\n",
            "                 Class     Images  Instances          P          R      mAP50   mAP50-95: 100%|██████████| 157/157 [00:41<00:00,  3.75it/s]\n",
            "                   all       5000      36335      0.671      0.519      0.566      0.372\n",
            "Speed: 0.1ms pre-process, 1.8ms inference, 1.2ms NMS per image at shape (32, 3, 640, 640)\n",
            "\n",
            "Evaluating pycocotools mAP... saving runs\\val\\exp3\\yolov5s_predictions.json...\n",
            "Results saved to \u001b[1mruns\\val\\exp3\u001b[0m\n"
          ]
        }
      ],
      "source": [
        "# Validate YOLOv5s on COCO val\n",
        "!python val.py --weights yolov5s.pt --data coco.yaml --img 640 --half"
      ]
    },
    {
      "cell_type": "markdown",
      "metadata": {
        "id": "ZY2VXXXu74w5"
      },
      "source": [
        "# 3. Train\n",
        "\n",
        "<p align=\"\"><a href=\"https://ultralytics.com/hub\"><img width=\"1000\" src=\"https://github.com/ultralytics/assets/raw/main/im/integrations-loop.png\"/></a></p>\n",
        "Close the active learning loop by sampling images from your inference conditions with the `roboflow` pip package\n",
        "<br><br>\n",
        "\n",
        "Train a YOLOv5s model on the [COCO128](https://www.kaggle.com/datasets/ultralytics/coco128) dataset with `--data coco128.yaml`, starting from pretrained `--weights yolov5s.pt`, or from randomly initialized `--weights '' --cfg yolov5s.yaml`.\n",
        "\n",
        "- **Pretrained [Models](https://github.com/ultralytics/yolov5/tree/master/models)** are downloaded\n",
        "automatically from the [latest YOLOv5 release](https://github.com/ultralytics/yolov5/releases)\n",
        "- **[Datasets](https://github.com/ultralytics/yolov5/tree/master/data)** available for autodownload include: [COCO](https://github.com/ultralytics/yolov5/blob/master/data/coco.yaml), [COCO128](https://github.com/ultralytics/yolov5/blob/master/data/coco128.yaml), [VOC](https://github.com/ultralytics/yolov5/blob/master/data/VOC.yaml), [Argoverse](https://github.com/ultralytics/yolov5/blob/master/data/Argoverse.yaml), [VisDrone](https://github.com/ultralytics/yolov5/blob/master/data/VisDrone.yaml), [GlobalWheat](https://github.com/ultralytics/yolov5/blob/master/data/GlobalWheat2020.yaml), [xView](https://github.com/ultralytics/yolov5/blob/master/data/xView.yaml), [Objects365](https://github.com/ultralytics/yolov5/blob/master/data/Objects365.yaml), [SKU-110K](https://github.com/ultralytics/yolov5/blob/master/data/SKU-110K.yaml).\n",
        "- **Training Results** are saved to `runs/train/` with incrementing run directories, i.e. `runs/train/exp2`, `runs/train/exp3` etc.\n",
        "<br>\n",
        "\n",
        "A **Mosaic Dataloader** is used for training which combines 4 images into 1 mosaic.\n",
        "\n",
        "## Label a dataset on Roboflow (optional)\n",
        "\n",
        "[Roboflow](https://roboflow.com/?ref=ultralytics) enables you to easily **organize, label, and prepare** a high quality dataset with your own custom data. Roboflow also makes it easy to establish an active learning pipeline, collaborate with your team on dataset improvement, and integrate directly into your model building workflow with the `roboflow` pip package."
      ]
    },
    {
      "cell_type": "code",
      "execution_count": null,
      "metadata": {
        "id": "i3oKtE4g-aNn"
      },
      "outputs": [],
      "source": [
        "#@title Select YOLOv5 🚀 logger {run: 'auto'}\n",
        "logger = 'Comet' #@param ['Comet', 'ClearML', 'TensorBoard']\n",
        "\n",
        "if logger == 'Comet':\n",
        "  %pip install -q comet_ml\n",
        "  import comet_ml; comet_ml.init()\n",
        "elif logger == 'ClearML':\n",
        "  %pip install -q clearml\n",
        "  import clearml; clearml.browser_login()\n",
        "elif logger == 'TensorBoard':\n",
        "  %load_ext tensorboard\n",
        "  %tensorboard --logdir runs/train"
      ]
    },
    {
      "cell_type": "code",
      "execution_count": null,
      "metadata": {
        "colab": {
          "base_uri": "https://localhost:8080/"
        },
        "id": "1NcFxRcFdJ_O",
        "outputId": "bbeeea2b-04fc-4185-aa64-258690495b5a"
      },
      "outputs": [],
      "source": [
        "# Train YOLOv5s on COCO128 for 3 epochs\n",
        "!python train.py --img 640 --batch 4 --epochs 3 --data coco128.yaml --weights yolov5s.pt --cache"
      ]
    },
    {
      "cell_type": "markdown",
      "metadata": {
        "id": "15glLzbQx5u0"
      },
      "source": [
        "# 4. Visualize"
      ]
    },
    {
      "cell_type": "markdown",
      "metadata": {
        "id": "nWOsI5wJR1o3"
      },
      "source": [
        "## Comet Logging and Visualization 🌟 NEW\n",
        "\n",
        "[Comet](https://www.comet.com/site/lp/yolov5-with-comet/?utm_source=yolov5&utm_medium=partner&utm_campaign=partner_yolov5_2022&utm_content=yolov5_colab) is now fully integrated with YOLOv5. Track and visualize model metrics in real time, save your hyperparameters, datasets, and model checkpoints, and visualize your model predictions with [Comet Custom Panels](https://www.comet.com/docs/v2/guides/comet-dashboard/code-panels/about-panels/?utm_source=yolov5&utm_medium=partner&utm_campaign=partner_yolov5_2022&utm_content=yolov5_colab)! Comet makes sure you never lose track of your work and makes it easy to share results and collaborate across teams of all sizes!\n",
        "\n",
        "Getting started is easy:\n",
        "```shell\n",
        "pip install comet_ml  # 1. install\n",
        "export COMET_API_KEY=<Your API Key>  # 2. paste API key\n",
        "python train.py --img 640 --epochs 3 --data coco128.yaml --weights yolov5s.pt  # 3. train\n",
        "```\n",
        "To learn more about all of the supported Comet features for this integration, check out the [Comet Tutorial](https://docs.ultralytics.com/yolov5/tutorials/comet_logging_integration). If you'd like to learn more about Comet, head over to our [documentation](https://www.comet.com/docs/v2/?utm_source=yolov5&utm_medium=partner&utm_campaign=partner_yolov5_2022&utm_content=yolov5_colab). Get started by trying out the Comet Colab Notebook:\n",
        "[![Open In Colab](https://colab.research.google.com/assets/colab-badge.svg)](https://colab.research.google.com/drive/1RG0WOQyxlDlo5Km8GogJpIEJlg_5lyYO?usp=sharing)\n",
        "\n",
        "<a href=\"https://bit.ly/yolov5-readme-comet2\">\n",
        "<img alt=\"Comet Dashboard\" src=\"https://user-images.githubusercontent.com/26833433/202851203-164e94e1-2238-46dd-91f8-de020e9d6b41.png\" width=\"1280\"/></a>"
      ]
    },
    {
      "cell_type": "markdown",
      "metadata": {
        "id": "Lay2WsTjNJzP"
      },
      "source": [
        "## ClearML Logging and Automation 🌟 NEW\n",
        "\n",
        "[ClearML](https://cutt.ly/yolov5-notebook-clearml) is completely integrated into YOLOv5 to track your experimentation, manage dataset versions and even remotely execute training runs. To enable ClearML (check cells above):\n",
        "\n",
        "- `pip install clearml`\n",
        "- run `clearml-init` to connect to a ClearML server (**deploy your own [open-source server](https://github.com/allegroai/clearml-server)**, or use our [free hosted server](https://cutt.ly/yolov5-notebook-clearml))\n",
        "\n",
        "You'll get all the great expected features from an experiment manager: live updates, model upload, experiment comparison etc. but ClearML also tracks uncommitted changes and installed packages for example. Thanks to that ClearML Tasks (which is what we call experiments) are also reproducible on different machines! With only 1 extra line, we can schedule a YOLOv5 training task on a queue to be executed by any number of ClearML Agents (workers).\n",
        "\n",
        "You can use ClearML Data to version your dataset and then pass it to YOLOv5 simply using its unique ID. This will help you keep track of your data without adding extra hassle. Explore the [ClearML Tutorial](https://docs.ultralytics.com/yolov5/tutorials/clearml_logging_integration) for details!\n",
        "\n",
        "<a href=\"https://cutt.ly/yolov5-notebook-clearml\">\n",
        "<img alt=\"ClearML Experiment Management UI\" src=\"https://github.com/thepycoder/clearml_screenshots/raw/main/scalars.jpg\" width=\"1280\"/></a>"
      ]
    },
    {
      "cell_type": "markdown",
      "metadata": {
        "id": "-WPvRbS5Swl6"
      },
      "source": [
        "## Local Logging\n",
        "\n",
        "Training results are automatically logged with [Tensorboard](https://www.tensorflow.org/tensorboard) and [CSV](https://github.com/ultralytics/yolov5/pull/4148) loggers to `runs/train`, with a new experiment directory created for each new training as `runs/train/exp2`, `runs/train/exp3`, etc.\n",
        "\n",
        "This directory contains train and val statistics, mosaics, labels, predictions and augmentated mosaics, as well as metrics and charts including precision-recall (PR) curves and confusion matrices.\n",
        "\n",
        "<img alt=\"Local logging results\" src=\"https://user-images.githubusercontent.com/26833433/183222430-e1abd1b7-782c-4cde-b04d-ad52926bf818.jpg\" width=\"1280\"/>\n"
      ]
    },
    {
      "cell_type": "markdown",
      "metadata": {
        "id": "Zelyeqbyt3GD"
      },
      "source": [
        "# Environments\n",
        "\n",
        "YOLOv5 may be run in any of the following up-to-date verified environments (with all dependencies including [CUDA](https://developer.nvidia.com/cuda)/[CUDNN](https://developer.nvidia.com/cudnn), [Python](https://www.python.org/) and [PyTorch](https://pytorch.org/) preinstalled):\n",
        "\n",
        "- **Notebooks** with free GPU: <a href=\"https://bit.ly/yolov5-paperspace-notebook\"><img src=\"https://assets.paperspace.io/img/gradient-badge.svg\" alt=\"Run on Gradient\"></a> <a href=\"https://colab.research.google.com/github/ultralytics/yolov5/blob/master/tutorial.ipynb\"><img src=\"https://colab.research.google.com/assets/colab-badge.svg\" alt=\"Open In Colab\"></a> <a href=\"https://www.kaggle.com/models/ultralytics/yolov5\"><img src=\"https://kaggle.com/static/images/open-in-kaggle.svg\" alt=\"Open In Kaggle\"></a>\n",
        "- **Google Cloud** Deep Learning VM. See [GCP Quickstart Guide](https://docs.ultralytics.com/yolov5/environments/google_cloud_quickstart_tutorial/)\n",
        "- **Amazon** Deep Learning AMI. See [AWS Quickstart Guide](https://docs.ultralytics.com/yolov5/environments/aws_quickstart_tutorial/)\n",
        "- **Docker Image**. See [Docker Quickstart Guide](https://docs.ultralytics.com/yolov5/environments/docker_image_quickstart_tutorial/) <a href=\"https://hub.docker.com/r/ultralytics/yolov5\"><img src=\"https://img.shields.io/docker/pulls/ultralytics/yolov5?logo=docker\" alt=\"Docker Pulls\"></a>\n"
      ]
    },
    {
      "cell_type": "markdown",
      "metadata": {
        "id": "6Qu7Iesl0p54"
      },
      "source": [
        "# Status\n",
        "\n",
        "![YOLOv5 CI](https://github.com/ultralytics/yolov5/actions/workflows/ci-testing.yml/badge.svg)\n",
        "\n",
        "If this badge is green, all [YOLOv5 GitHub Actions](https://github.com/ultralytics/yolov5/actions) Continuous Integration (CI) tests are currently passing. CI tests verify correct operation of YOLOv5 training ([train.py](https://github.com/ultralytics/yolov5/blob/master/train.py)), testing ([val.py](https://github.com/ultralytics/yolov5/blob/master/val.py)), inference ([detect.py](https://github.com/ultralytics/yolov5/blob/master/detect.py)) and export ([export.py](https://github.com/ultralytics/yolov5/blob/master/export.py)) on macOS, Windows, and Ubuntu every 24 hours and on every commit.\n"
      ]
    },
    {
      "cell_type": "markdown",
      "metadata": {
        "id": "IEijrePND_2I"
      },
      "source": [
        "# Appendix\n",
        "\n",
        "Additional content below."
      ]
    },
    {
      "cell_type": "code",
      "execution_count": null,
      "metadata": {
        "id": "GMusP4OAxFu6"
      },
      "outputs": [],
      "source": [
        "# YOLOv5 PyTorch HUB Inference (DetectionModels only)\n",
        "import torch\n",
        "\n",
        "model = torch.hub.load('ultralytics/yolov5', 'yolov5s', force_reload=True, trust_repo=True)  # or yolov5n - yolov5x6 or custom\n",
        "im = 'https://ultralytics.com/images/zidane.jpg'  # file, Path, PIL.Image, OpenCV, nparray, list\n",
        "results = model(im)  # inference\n",
        "results.print()  # or .show(), .save(), .crop(), .pandas(), etc."
      ]
    }
  ],
  "metadata": {
    "accelerator": "GPU",
    "colab": {
      "name": "YOLOv5 Tutorial",
      "provenance": []
    },
    "kernelspec": {
      "display_name": "new_env",
      "language": "python",
      "name": "python3"
    },
    "language_info": {
      "codemirror_mode": {
        "name": "ipython",
        "version": 3
      },
      "file_extension": ".py",
      "mimetype": "text/x-python",
      "name": "python",
      "nbconvert_exporter": "python",
      "pygments_lexer": "ipython3",
      "version": "3.12.9"
    }
  },
  "nbformat": 4,
  "nbformat_minor": 0
}
